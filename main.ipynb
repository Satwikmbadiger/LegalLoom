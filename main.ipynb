{
 "cells": [
  {
   "cell_type": "markdown",
   "id": "697b2577",
   "metadata": {},
   "source": [
    "<h3>LegalLoom</h3>\n",
    "<h5> - Spinning Legal Knowledge Into Action</h5>\n",
    "<p>\n",
    "LegalLoom is an AI-powered Legal Document Analyzer that leverages Retrieval-Augmented Generation (RAG) combined with a custom-trained legal language model to help you search, interpret, and extract insights from large legal corpora such as contracts, case law, and statutes.\n",
    "By intelligently retrieving relevant documents and generating clear, cite-backed responses, LegalLoom streamlines legal research and empowers legal professionals to make faster, more informed decisions.\n",
    "</p>"
   ]
  },
  {
   "cell_type": "markdown",
   "id": "968a8d76",
   "metadata": {},
   "source": [
    "<h4>File Input</h4>"
   ]
  },
  {
   "cell_type": "code",
   "execution_count": 8,
   "id": "b4bb7dcd",
   "metadata": {},
   "outputs": [],
   "source": [
    "import os\n",
    "import pdfplumber\n",
    "from pdf2image import convert_from_path\n",
    "import pytesseract\n",
    "from docx import Document\n",
    "from ebooklib import epub\n",
    "from ebooklib import ITEM_DOCUMENT\n",
    "from bs4 import BeautifulSoup\n",
    "from PIL import Image\n",
    "\n",
    "pytesseract.pytesseract.tesseract_cmd = r\"C:/Program Files/Tesseract-OCR/tesseract.exe\"\n",
    "\n",
    "def extract_text(file_path):\n",
    "    ext = os.path.splitext(file_path)[1].lower()\n",
    "\n",
    "    try:\n",
    "        if ext == \".pdf\":\n",
    "            # Try pdfplumber first (text PDFs)\n",
    "            with pdfplumber.open(file_path) as pdf:\n",
    "                text = \"\"\n",
    "                for page in pdf.pages:\n",
    "                    page_text = page.extract_text()\n",
    "                    if page_text:\n",
    "                        text += page_text + \"\\n\"\n",
    "            if text.strip():\n",
    "                return text\n",
    "            # fallback to OCR for scanned PDFs\n",
    "            pages = convert_from_path(file_path)\n",
    "            text = \"\"\n",
    "            for page in pages:\n",
    "                text += pytesseract.image_to_string(page) + \"\\n\"\n",
    "            return text\n",
    "\n",
    "        elif ext == \".doc\" or ext == \".docx\":\n",
    "            doc = Document(file_path)\n",
    "            return \"\\n\".join(p.text for p in doc.paragraphs)\n",
    "\n",
    "        elif ext == \".epub\":\n",
    "            book = epub.read_epub(file_path)\n",
    "            text = \"\"\n",
    "            for item in book.get_items_of_type(ITEM_DOCUMENT):\n",
    "                soup = BeautifulSoup(item.get_content(), 'html.parser')\n",
    "                text += soup.get_text() + \"\\n\"\n",
    "            return text\n",
    "\n",
    "        elif ext in [\".jpg\", \".jpeg\", \".png\", \".bmp\", \".tiff\"]:\n",
    "            image = Image.open(file_path)\n",
    "            return pytesseract.image_to_string(image)\n",
    "\n",
    "        else:\n",
    "            return f\"Unsupported file extension: {ext}\"\n",
    "\n",
    "    except Exception as e:\n",
    "        return f\"Error extracting text: {str(e)}\"\n"
   ]
  },
  {
   "cell_type": "code",
   "execution_count": 20,
   "id": "1d83f12d",
   "metadata": {},
   "outputs": [
    {
     "data": {
      "text/plain": [
       "'LAND LEASE AGREEMENT\\n\\n‘This Lease Agreement (hereinafter referred to as the \"Agreement”) is made and effective\\n(the \"Effective Date),\\n\\nBY AND with an adress of HANBEORD\\n\\nBETWEEN: heteinafe refered toa the “Lessor”\\n\\nAND: {EENANTINAME, with an address o\\nHereinafter refered to asthe “Lessee, collectively refered 0a\\nthe “Pates™\\n\\nLEASED PREMISES\\n\\nLessor agrees to lease to Lessee, and Lessee agrees to lease fiom Lessor, for the term and\\nupon the conditions set forth herein, the land described as follows:\\n\\n(Enter a detailed description, potentially with references to attached maps or surveys)\\nTERM\\n\\n‘This Lease begins on and ends on. ‘The term is for\\n‘years/inonths\\n\\nRENT\\n\\nLessee will pay Lessor dollars/euros/sterling monthly, due the fist day of\\neach month.\\n\\nUSE OF LAND\\n\\nThe Lessee may only use the land for: Prohibited activities\\ninclude:\\n\\n5. MAINTENANCE,\\n\\nLessee shall keep the land, including any improvements, in good condition. This includes, but\\nis not limited to, eg, mowing, weeding, and trash removal.\\n\\nINSURANCE,\\n'"
      ]
     },
     "execution_count": 20,
     "metadata": {},
     "output_type": "execute_result"
    }
   ],
   "source": [
    "extract_text(\"test_data/sample-1.epub\")\n",
    "extract_text(\"test_data/Land Lease Agreement.docx\")\n",
    "extract_text(\"test_data/Land Lease Agreement.pdf\")\n",
    "extract_text(\"test_data/land-lease-agreement-template.jpg\")"
   ]
  },
  {
   "cell_type": "markdown",
   "id": "8dfe68a9",
   "metadata": {},
   "source": [
    "<h4>Local LLM</h4>"
   ]
  },
  {
   "cell_type": "code",
   "execution_count": null,
   "id": "bc536d08",
   "metadata": {},
   "outputs": [
    {
     "name": "stdout",
     "output_type": "stream",
     "text": [
      " The capital of France is Paris. It is one of the world's leading cultural and intellectual centers, known for its influential contributions to art, science, literature, fashion, politics, and cuisine. Paris is also home to some of the most famous landmarks in the world, such as the Eiffel Tower, Louvre Museum, Notre-Dame Cathedral, and Champs-Élysées. The city has a population of approximately 2.14 million people within its administrative limits, but it is also part of the Paris metropolitan area which has over 12 million inhabitants.\n"
     ]
    }
   ],
   "source": [
    "import requests\n",
    "\n",
    "def run_local_llm(prompt, model=\"mistral:7b-instruct-v0.3-q4_0\"):\n",
    "    url = \"http://localhost:11434/api/generate\"\n",
    "    payload = {\n",
    "        \"model\": model,\n",
    "        \"prompt\": prompt,\n",
    "        \"stream\": False\n",
    "    }\n",
    "\n",
    "    response = requests.post(url, json=payload)\n",
    "    return response.json()['response']\n",
    "\n",
    "# Example usage\n",
    "print(run_local_llm(\"What is the capital of France?\"))\n"
   ]
  },
  {
   "cell_type": "markdown",
   "id": "1d0e4c4d",
   "metadata": {},
   "source": [
    "<h4>Knowledge Chunking"
   ]
  }
 ],
 "metadata": {
  "kernelspec": {
   "display_name": "venv",
   "language": "python",
   "name": "python3"
  },
  "language_info": {
   "codemirror_mode": {
    "name": "ipython",
    "version": 3
   },
   "file_extension": ".py",
   "mimetype": "text/x-python",
   "name": "python",
   "nbconvert_exporter": "python",
   "pygments_lexer": "ipython3",
   "version": "3.11.0"
  }
 },
 "nbformat": 4,
 "nbformat_minor": 5
}
